{
 "cells": [
  {
   "cell_type": "code",
   "execution_count": 32,
   "metadata": {},
   "outputs": [],
   "source": [
    "import pandas as pd\n",
    "import os"
   ]
  },
  {
   "cell_type": "code",
   "execution_count": 33,
   "metadata": {},
   "outputs": [
    {
     "data": {
      "text/plain": [
       "['multiTimeline (36).csv',\n",
       " 'multiTimeline (6).csv',\n",
       " 'multiTimeline (20).csv',\n",
       " 'multiTimeline.csv',\n",
       " 'multiTimeline (16).csv',\n",
       " 'multiTimeline (41).csv',\n",
       " 'multiTimeline (40).csv',\n",
       " 'multiTimeline (17).csv',\n",
       " 'multiTimeline (21).csv',\n",
       " 'multiTimeline (7).csv',\n",
       " 'multiTimeline (37).csv',\n",
       " 'multiTimeline (10).csv',\n",
       " 'multiTimeline (47).csv',\n",
       " 'multiTimeline (30).csv',\n",
       " 'multiTimeline (26).csv',\n",
       " 'multiTimeline (27).csv',\n",
       " 'multiTimeline (1).csv',\n",
       " 'multiTimeline (31).csv',\n",
       " 'multiTimeline (46).csv',\n",
       " 'multiTimeline (11).csv',\n",
       " 'multiTimeline (45).csv',\n",
       " 'multiTimeline (12).csv',\n",
       " 'multiTimeline (28).csv',\n",
       " 'multiTimeline (49).csv',\n",
       " 'multiTimeline (24).csv',\n",
       " 'multiTimeline (2).csv',\n",
       " 'multiTimeline (32).csv',\n",
       " 'multiTimeline (33).csv',\n",
       " 'multiTimeline (3).csv',\n",
       " 'multiTimeline (25).csv',\n",
       " 'multiTimeline (48).csv',\n",
       " 'multiTimeline (29).csv',\n",
       " 'multiTimeline (13).csv',\n",
       " 'multiTimeline (44).csv',\n",
       " 'multiTimeline (18).csv',\n",
       " 'multiTimeline (22).csv',\n",
       " 'multiTimeline (4).csv',\n",
       " 'multiTimeline (34).csv',\n",
       " 'multiTimeline (43).csv',\n",
       " 'multiTimeline (14).csv',\n",
       " 'multiTimeline (8).csv',\n",
       " 'multiTimeline (38).csv',\n",
       " 'multiTimeline (39).csv',\n",
       " 'multiTimeline (9).csv',\n",
       " 'multiTimeline (15).csv',\n",
       " 'multiTimeline (42).csv',\n",
       " 'multiTimeline (35).csv',\n",
       " 'multiTimeline (5).csv',\n",
       " 'multiTimeline (23).csv',\n",
       " 'multiTimeline (19).csv']"
      ]
     },
     "execution_count": 33,
     "metadata": {},
     "output_type": "execute_result"
    }
   ],
   "source": [
    "files = os.listdir('trends/')\n",
    "files"
   ]
  },
  {
   "cell_type": "code",
   "execution_count": 34,
   "metadata": {},
   "outputs": [],
   "source": [
    "df_trend = pd.DataFrame()\n",
    "\n",
    "pop = {\n",
    "    'California': 39776830,\n",
    "    'Texas': 28704330,\n",
    "    'Florida': 21312211,\n",
    "    'New York': 19862512,\n",
    "    'Pennsylvania': 12823989,\n",
    "    'Illinois': 12768320,\n",
    "    'Ohio': 11694664,\n",
    "    'Georgia': 10545138,\n",
    "    'North Carolina': 10390149,\n",
    "    'Michigan': 9991177,\n",
    "    'New Jersey': 9032872,\n",
    "    'Virginia': 8525660,\n",
    "    'Washington': 7530552,\n",
    "    'Arizona': 7123898,\n",
    "    'Massachusetts': 6895917,\n",
    "    'Tennessee': 6782564,\n",
    "    'Indiana': 6699629,\n",
    "    'Missouri': 6135888,\n",
    "    'Maryland': 6079602,\n",
    "    'Wisconsin': 5818049,\n",
    "    'Colorado': 5684203,\n",
    "    'Minnesota': 5628162,\n",
    "    'South Carolina': 5088916,\n",
    "    'Alabama': 4888949,\n",
    "    'Louisiana': 4682509,\n",
    "    'Kentucky': 4472265,\n",
    "    'Oregon': 4199563,\n",
    "    'Oklahoma': 3940521,\n",
    "    'Connecticut': 3588683,\n",
    "    'Iowa': 3160553,\n",
    "    'Utah': 3159345,\n",
    "    'Nevada': 3056824,\n",
    "    'Arkansas': 3020327,\n",
    "    'Mississippi': 2982785,\n",
    "    'Kansas': 2918515,\n",
    "    'New Mexico': 2090708,\n",
    "    'Nebraska': 1932549,\n",
    "    'West Virginia': 1803077,\n",
    "    'Idaho': 1753860,\n",
    "    'Hawaii': 1426393,\n",
    "    'New Hampshire': 1350575,\n",
    "    'Maine': 1341582,\n",
    "    'Montana': 1062330,\n",
    "    'Rhode Island': 1061712,\n",
    "    'Delaware': 971180,\n",
    "    'South Dakota': 877790,\n",
    "    'North Dakota': 755238,\n",
    "    'Alaska': 738068,\n",
    "    'District of Columbia': 703608,\n",
    "    'Vermont': 623960,\n",
    "    'Wyoming': 573720\n",
    "}"
   ]
  },
  {
   "cell_type": "code",
   "execution_count": 35,
   "metadata": {},
   "outputs": [],
   "source": [
    "for f in files:\n",
    "    f = open(f'trends/{f}', \"r\")\n",
    "    lines = f.readlines()\n",
    "    state = lines[2].split('(')[1].split(')')[0]\n",
    "    state\n",
    "    df_state = pd.DataFrame()\n",
    "    for l in lines[3:]:\n",
    "        date = l.split(',')[0]\n",
    "        data = l.split(',')[1].split('\\n')[0]\n",
    "        df_dict = {\n",
    "            'state': state,\n",
    "            'date': date,\n",
    "            'data': data,\n",
    "            'pop': pop[state]\n",
    "        }\n",
    "        df_state = df_state.append(df_dict, ignore_index=True)\n",
    "    df_trend = df_trend.append(df_state)\n"
   ]
  },
  {
   "cell_type": "code",
   "execution_count": 36,
   "metadata": {},
   "outputs": [],
   "source": [
    "df_trend.to_csv('pop_trend_data.csv')"
   ]
  },
  {
   "cell_type": "code",
   "execution_count": null,
   "metadata": {},
   "outputs": [],
   "source": []
  }
 ],
 "metadata": {
  "kernelspec": {
   "display_name": "Python 3",
   "language": "python",
   "name": "python3"
  },
  "language_info": {
   "codemirror_mode": {
    "name": "ipython",
    "version": 3
   },
   "file_extension": ".py",
   "mimetype": "text/x-python",
   "name": "python",
   "nbconvert_exporter": "python",
   "pygments_lexer": "ipython3",
   "version": "3.7.4"
  }
 },
 "nbformat": 4,
 "nbformat_minor": 2
}
